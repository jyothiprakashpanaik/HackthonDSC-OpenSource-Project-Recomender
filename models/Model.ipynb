{
 "cells": [
  {
   "cell_type": "code",
   "execution_count": 19,
   "metadata": {},
   "outputs": [],
   "source": [
    "import pickle\n",
    "import pandas as pd\n",
    "import nltk\n",
    "from nltk import word_tokenize \n",
    "from nltk.stem import WordNetLemmatizer\n",
    "from sklearn.feature_extraction.text import CountVectorizer\n",
    "from sklearn.metrics.pairwise import cosine_similarity\n",
    "\n",
    "# Global Variables\n",
    "\n",
    "repo_lookup = pickle.load(open(\"repo_lookup.pkl\",\"rb\"))\n",
    "stopwords = pickle.load(open(\"stopwords.pkl\",\"rb\"))\n",
    "word_vectorizer = CountVectorizer(ngram_range=(1,1), analyzer='word',stop_words=stopwords, tokenizer=LemmaTokenizer())\n",
    "sparse_vector_matrix = word_vectorizer.fit_transform(repo_lookup['repo_description_plus_topic'])\n"
   ]
  },
  {
   "cell_type": "code",
   "execution_count": 15,
   "metadata": {},
   "outputs": [],
   "source": [
    "\n",
    "class LemmaTokenizer:\n",
    "    def __init__(self):\n",
    "        self.wnl = WordNetLemmatizer()\n",
    "    def __call__(self,articles):\n",
    "        return [self.wnl.lemmatize(t) for t in word_tokenize(articles)]\n",
    "    "
   ]
  },
  {
   "cell_type": "code",
   "execution_count": 16,
   "metadata": {},
   "outputs": [],
   "source": [
    "\n",
    "def text_recommender(input_df, word_vectorizer=word_vectorizer,  sparse_vector_matrix = sparse_vector_matrix, repo_lookup=repo_lookup):\n",
    "    \n",
    "    input_df[\"bag_of_words\"] = input_df.apply(lambda x: \" \".join(x), axis=1)\n",
    "    \n",
    "    # vectorize the inputted string\n",
    "    inputted_vector = word_vectorizer.transform(input_df['bag_of_words'])\n",
    "    \n",
    "    # calculate the cosine similarity\n",
    "    one_dimension_cosine_sim = cosine_similarity(inputted_vector, sparse_vector_matrix)\n",
    "    \n",
    "    # creating a Series with the similarity scores in descending order\n",
    "    score_series = pd.Series(one_dimension_cosine_sim[0]).sort_values(ascending = False)\n",
    "    \n",
    "    # only show matches that have some similarity\n",
    "    score_series = score_series[score_series>0]\n",
    "    \n",
    "    # getting the indexes of the 10 most similar repos\n",
    "    top_10_indexes = list(score_series.iloc[1:10].index)\n",
    "    \n",
    "    # return the list of recommended repo\n",
    "    recommended_repos = repo_lookup.loc[top_10_indexes]\n",
    "    \n",
    "    return recommended_repos\n"
   ]
  },
  {
   "cell_type": "code",
   "execution_count": 17,
   "metadata": {},
   "outputs": [],
   "source": [
    "\n",
    "class RepoRecomender(object):\n",
    "  \n",
    "    def __init__(self,word_vectorizer,sparse_vector_matrix,repo_lookup,text_recommender):\n",
    "        self.word_vectorizer = word_vectorizer \n",
    "        self.sparse_vector_matrix = sparse_vector_matrix\n",
    "        self.repo_lookup = repo_lookup\n",
    "        self.text_recommender = text_recommender\n",
    "        \n",
    "    def predict(self,context,model_input):\n",
    "        output_df = self.text_recommender(model_input)\n",
    "        return [output_df.to_dict('records')]\n",
    "    "
   ]
  },
  {
   "cell_type": "code",
   "execution_count": 21,
   "metadata": {},
   "outputs": [
    {
     "name": "stdout",
     "output_type": "stream",
     "text": [
      "[[{'github_repo_url': 'https://github.com/COVID-19-PROJECT/COVID-19-Android', 'repo_description': 'covid android project', 'topics': '', 'owner_repo_name': 'COVID-19-PROJECT/COVID-19-Android', 'owner_name': 'COVID-19-PROJECT', 'owner_type': 'Organization', 'organization_bio': nan, 'repo_created_day': '2020-03-23', 'primary_language_name': 'Kotlin', 'license_name': nan, 'is_github_pages': False, 'has_readme': True, 'has_wiki': True, 'has_merged_prs': True, 'has_issues': True, 'has_contributor_guide': False, 'has_code_of_conduct': False, 'count_of_public_forks': 0, 'count_of_stars': 0, 'count_of_watchers': 0, 'count_distinct_contributors': 4, 'count_contributions': 81, 'count_commits': 60, 'count_commit_comments': 0, 'count_created_issues': 0, 'count_pull_requests_created': 8, 'count_pull_requests_reviews': 13, 'count_comments_on_issues_and_pull_requests': 0, 'laguage': 'en', 'is_latin': True, 'repo_description_cleaned': 'covid android project', 'repo_description_plus_topic': 'covid android project  Kotlin'}, {'github_repo_url': 'https://github.com/agensdev/covid19-android', 'repo_description': 'covid19 tracker app for android', 'topics': '', 'owner_repo_name': 'agensdev/covid19-android', 'owner_name': 'agensdev', 'owner_type': 'Organization', 'organization_bio': nan, 'repo_created_day': '2020-03-15', 'primary_language_name': 'Kotlin', 'license_name': nan, 'is_github_pages': False, 'has_readme': True, 'has_wiki': True, 'has_merged_prs': True, 'has_issues': True, 'has_contributor_guide': False, 'has_code_of_conduct': False, 'count_of_public_forks': 0, 'count_of_stars': 0, 'count_of_watchers': 0, 'count_distinct_contributors': 2, 'count_contributions': 16, 'count_commits': 15, 'count_commit_comments': 0, 'count_created_issues': 0, 'count_pull_requests_created': 1, 'count_pull_requests_reviews': 0, 'count_comments_on_issues_and_pull_requests': 0, 'laguage': 'en', 'is_latin': True, 'repo_description_cleaned': 'covid19 tracker app for android', 'repo_description_plus_topic': 'covid19 tracker app for android  Kotlin'}, {'github_repo_url': 'https://github.com/covid19cz/erouska-android', 'repo_description': 'bluetooth tracing for android', 'topics': '', 'owner_repo_name': 'covid19cz/erouska-android', 'owner_name': 'covid19cz', 'owner_type': 'Organization', 'organization_bio': nan, 'repo_created_day': '2020-03-16', 'primary_language_name': 'Kotlin', 'license_name': 'mit', 'is_github_pages': False, 'has_readme': True, 'has_wiki': True, 'has_merged_prs': True, 'has_issues': True, 'has_contributor_guide': False, 'has_code_of_conduct': False, 'count_of_public_forks': 17, 'count_of_stars': 24, 'count_of_watchers': 24, 'count_distinct_contributors': 16, 'count_contributions': 751, 'count_commits': 532, 'count_commit_comments': 1, 'count_created_issues': 7, 'count_pull_requests_created': 98, 'count_pull_requests_reviews': 67, 'count_comments_on_issues_and_pull_requests': 46, 'laguage': 'en', 'is_latin': True, 'repo_description_cleaned': 'bluetooth tracing for android', 'repo_description_plus_topic': 'bluetooth tracing for android  Kotlin'}, {'github_repo_url': 'https://github.com/chiraggada2911/COVID-19-Tracking', 'repo_description': 'an android app that tracks covid 19 globally.', 'topics': '', 'owner_repo_name': 'chiraggada2911/COVID-19-Tracking', 'owner_name': 'chiraggada2911', 'owner_type': 'User', 'organization_bio': nan, 'repo_created_day': '2020-03-28', 'primary_language_name': 'Java', 'license_name': 'mit', 'is_github_pages': False, 'has_readme': True, 'has_wiki': True, 'has_merged_prs': True, 'has_issues': True, 'has_contributor_guide': False, 'has_code_of_conduct': False, 'count_of_public_forks': 0, 'count_of_stars': 0, 'count_of_watchers': 0, 'count_distinct_contributors': 2, 'count_contributions': 16, 'count_commits': 15, 'count_commit_comments': 0, 'count_created_issues': 0, 'count_pull_requests_created': 1, 'count_pull_requests_reviews': 0, 'count_comments_on_issues_and_pull_requests': 0, 'laguage': 'en', 'is_latin': True, 'repo_description_cleaned': 'an android app that tracks covid 19 globally', 'repo_description_plus_topic': 'an android app that tracks covid 19 globally  Java'}, {'github_repo_url': 'https://github.com/FareFirst/ff-protect-android', 'repo_description': 'android application to track down covid-19 clusters', 'topics': '', 'owner_repo_name': 'FareFirst/ff-protect-android', 'owner_name': 'FareFirst', 'owner_type': 'Organization', 'organization_bio': nan, 'repo_created_day': '2020-03-21', 'primary_language_name': 'Kotlin', 'license_name': 'gpl-3.0', 'is_github_pages': False, 'has_readme': True, 'has_wiki': True, 'has_merged_prs': True, 'has_issues': True, 'has_contributor_guide': False, 'has_code_of_conduct': False, 'count_of_public_forks': 3, 'count_of_stars': 2, 'count_of_watchers': 2, 'count_distinct_contributors': 2, 'count_contributions': 60, 'count_commits': 54, 'count_commit_comments': 0, 'count_created_issues': 0, 'count_pull_requests_created': 3, 'count_pull_requests_reviews': 3, 'count_comments_on_issues_and_pull_requests': 0, 'laguage': 'en', 'is_latin': True, 'repo_description_cleaned': 'android application to track down covid19 clusters', 'repo_description_plus_topic': 'android application to track down covid19 clusters  Kotlin'}, {'github_repo_url': 'https://github.com/PatilShreyas/Covid19-Notifier-IN', 'repo_description': 'a sample android app which notifies about covid19 cases in 🇮🇳india after every 1 hour.', 'topics': 'androidapp koinkotlin workmanagerkotlin kotlin coroutines dependencyinjection androidarchitecturecomponents workmanager android flow', 'owner_repo_name': 'PatilShreyas/Covid19-Notifier-IN', 'owner_name': 'PatilShreyas', 'owner_type': 'User', 'organization_bio': nan, 'repo_created_day': '2020-04-02', 'primary_language_name': 'Kotlin', 'license_name': 'mit', 'is_github_pages': True, 'has_readme': True, 'has_wiki': True, 'has_merged_prs': True, 'has_issues': True, 'has_contributor_guide': True, 'has_code_of_conduct': True, 'count_of_public_forks': 13, 'count_of_stars': 42, 'count_of_watchers': 42, 'count_distinct_contributors': 2, 'count_contributions': 16, 'count_commits': 14, 'count_commit_comments': 0, 'count_created_issues': 0, 'count_pull_requests_created': 1, 'count_pull_requests_reviews': 1, 'count_comments_on_issues_and_pull_requests': 0, 'laguage': 'en', 'is_latin': True, 'repo_description_cleaned': 'a sample android app which notifies about covid19 cases in 🇮🇳india after every 1 hour', 'repo_description_plus_topic': 'a sample android app which notifies about covid19 cases in 🇮🇳india after every 1 hour androidapp koinkotlin workmanagerkotlin kotlin coroutines dependencyinjection androidarchitecturecomponents workmanager android flow Kotlin'}, {'github_repo_url': 'https://github.com/alexandrumeterez/covidtracer', 'repo_description': 'contact tracing app for the covid-19 epidemic', 'topics': 'android coronavirustracking firebase java covid19 contacttracer covid19tracker', 'owner_repo_name': 'alexandrumeterez/covidtracer', 'owner_name': 'alexandrumeterez', 'owner_type': 'User', 'organization_bio': nan, 'repo_created_day': '2020-03-28', 'primary_language_name': 'Java', 'license_name': 'apache-2.0', 'is_github_pages': False, 'has_readme': True, 'has_wiki': True, 'has_merged_prs': True, 'has_issues': True, 'has_contributor_guide': False, 'has_code_of_conduct': False, 'count_of_public_forks': 2, 'count_of_stars': 8, 'count_of_watchers': 8, 'count_distinct_contributors': 2, 'count_contributions': 46, 'count_commits': 40, 'count_commit_comments': 0, 'count_created_issues': 2, 'count_pull_requests_created': 4, 'count_pull_requests_reviews': 0, 'count_comments_on_issues_and_pull_requests': 0, 'laguage': 'en', 'is_latin': True, 'repo_description_cleaned': 'contact tracing app for the covid19 epidemic', 'repo_description_plus_topic': 'contact tracing app for the covid19 epidemic android coronavirustracking firebase java covid19 contacttracer covid19tracker Java'}, {'github_repo_url': 'https://github.com/hackertronix/91-DIVOC', 'repo_description': '91-divoc is an android app that displays the covid-19 stats', 'topics': '', 'owner_repo_name': 'hackertronix/91-DIVOC', 'owner_name': 'hackertronix', 'owner_type': 'User', 'organization_bio': nan, 'repo_created_day': '2020-03-22', 'primary_language_name': 'Kotlin', 'license_name': nan, 'is_github_pages': False, 'has_readme': True, 'has_wiki': True, 'has_merged_prs': True, 'has_issues': True, 'has_contributor_guide': False, 'has_code_of_conduct': False, 'count_of_public_forks': 3, 'count_of_stars': 2, 'count_of_watchers': 2, 'count_distinct_contributors': 3, 'count_contributions': 30, 'count_commits': 16, 'count_commit_comments': 0, 'count_created_issues': 4, 'count_pull_requests_created': 6, 'count_pull_requests_reviews': 3, 'count_comments_on_issues_and_pull_requests': 1, 'laguage': 'en', 'is_latin': True, 'repo_description_cleaned': '91divoc is an android app that displays the covid19 stats', 'repo_description_plus_topic': '91divoc is an android app that displays the covid19 stats  Kotlin'}, {'github_repo_url': 'https://github.com/CoronApp-project/socialdistancing-android', 'repo_description': 'social distancing tool android version', 'topics': '', 'owner_repo_name': 'CoronApp-project/socialdistancing-android', 'owner_name': 'CoronApp-project', 'owner_type': 'Organization', 'organization_bio': 'apps to prevent covid-19 extension', 'repo_created_day': '2020-03-30', 'primary_language_name': 'Kotlin', 'license_name': nan, 'is_github_pages': False, 'has_readme': True, 'has_wiki': True, 'has_merged_prs': True, 'has_issues': True, 'has_contributor_guide': False, 'has_code_of_conduct': False, 'count_of_public_forks': 1, 'count_of_stars': 0, 'count_of_watchers': 0, 'count_distinct_contributors': 2, 'count_contributions': 25, 'count_commits': 16, 'count_commit_comments': 0, 'count_created_issues': 0, 'count_pull_requests_created': 9, 'count_pull_requests_reviews': 0, 'count_comments_on_issues_and_pull_requests': 0, 'laguage': 'en', 'is_latin': True, 'repo_description_cleaned': 'social distancing tool android version', 'repo_description_plus_topic': 'social distancing tool android version  Kotlin'}]]\n"
     ]
    }
   ],
   "source": [
    "if __name__==\"__main__\":\n",
    "    model = RepoRecomender(word_vectorizer = word_vectorizer,\n",
    "                                           sparse_vector_matrix = sparse_vector_matrix,\n",
    "                                           repo_lookup = repo_lookup,\n",
    "                                           text_recommender = text_recommender)\n",
    "\n",
    "    model_input = pd.DataFrame([[\"Java\",\"Kotlin\", \"Android\"]])\n",
    "    model_output = model.predict(None,model_input)\n",
    "\n",
    "    print(model_output)"
   ]
  }
 ],
 "metadata": {
  "kernelspec": {
   "display_name": "Python 3",
   "language": "python",
   "name": "python3"
  },
  "language_info": {
   "codemirror_mode": {
    "name": "ipython",
    "version": 3
   },
   "file_extension": ".py",
   "mimetype": "text/x-python",
   "name": "python",
   "nbconvert_exporter": "python",
   "pygments_lexer": "ipython3",
   "version": "3.8.5"
  }
 },
 "nbformat": 4,
 "nbformat_minor": 4
}
